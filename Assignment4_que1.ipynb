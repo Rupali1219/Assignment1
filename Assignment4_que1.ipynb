{
  "nbformat": 4,
  "nbformat_minor": 0,
  "metadata": {
    "colab": {
      "provenance": [],
      "collapsed_sections": []
    },
    "kernelspec": {
      "name": "python3",
      "display_name": "Python 3"
    },
    "language_info": {
      "name": "python"
    }
  },
  "cells": [
    {
      "cell_type": "code",
      "execution_count": 1,
      "metadata": {
        "colab": {
          "base_uri": "https://localhost:8080/"
        },
        "id": "DCxjLUBMG5Nj",
        "outputId": "60034f40-03e1-403e-b34e-cd28ac561ef2"
      },
      "outputs": [
        {
          "output_type": "stream",
          "name": "stdout",
          "text": [
            "35\n"
          ]
        }
      ],
      "source": [
        "#Write a Python program to create a lambda function that adds 25 to a given number passed in as an argument. \n",
        "r = lambda a : a + 25\n",
        "print(r(10)) "
      ]
    }
  ]
}