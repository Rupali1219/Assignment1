{
  "nbformat": 4,
  "nbformat_minor": 0,
  "metadata": {
    "colab": {
      "provenance": [],
      "collapsed_sections": []
    },
    "kernelspec": {
      "name": "python3",
      "display_name": "Python 3"
    },
    "language_info": {
      "name": "python"
    }
  },
  "cells": [
    {
      "cell_type": "code",
      "execution_count": 2,
      "metadata": {
        "colab": {
          "base_uri": "https://localhost:8080/"
        },
        "id": "KbAKWPocJEw4",
        "outputId": "74c2fd46-ae3a-42a2-d51a-eae6c760e68c"
      },
      "outputs": [
        {
          "output_type": "stream",
          "name": "stdout",
          "text": [
            "Original List:  [4, 5, 2, 9]\n",
            "Square the elements of the list:\n",
            "[16, 25, 4, 81]\n"
          ]
        }
      ],
      "source": [
        "#Write a Python program to square the elements of a list using map() function.\n",
        "def square_num(n):\n",
        "  return n * n\n",
        "nums = [4, 5, 2, 9]\n",
        "print(\"Original List: \",nums)\n",
        "result = map(square_num, nums)\n",
        "print(\"Square the elements of the list:\")\n",
        "print(list(result))\n"
      ]
    }
  ]
}