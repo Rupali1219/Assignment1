{
  "nbformat": 4,
  "nbformat_minor": 0,
  "metadata": {
    "colab": {
      "name": "Assignment 2_que1",
      "provenance": []
    },
    "kernelspec": {
      "name": "python3",
      "display_name": "Python 3"
    },
    "language_info": {
      "name": "python"
    }
  },
  "cells": [
    {
      "cell_type": "code",
      "source": [
        "List1 =  [(2, 5), (1, 2), (4, 4), (2, 3), (2, 1)]\n",
        "\n",
        "List2 =[]\n",
        "List3 =[]\n",
        "\n",
        "for t in List1:\n",
        "    List2.append(t[1],)\n",
        "\n",
        "List2.sort()\n",
        "\n",
        "\n",
        "for l in List2:\n",
        "    for q in List1:\n",
        "        if l == int(q[1],):\n",
        "            List3.append(q)\n",
        "\n",
        "print(List3)"
      ],
      "metadata": {
        "colab": {
          "base_uri": "https://localhost:8080/"
        },
        "id": "iSN7rSWknoC8",
        "outputId": "82f91533-cce9-467c-f0df-f0894b90d641"
      },
      "execution_count": 14,
      "outputs": [
        {
          "output_type": "stream",
          "name": "stdout",
          "text": [
            "[(2, 1), (1, 2), (2, 3), (4, 4), (2, 5)]\n"
          ]
        }
      ]
    }
  ]
}