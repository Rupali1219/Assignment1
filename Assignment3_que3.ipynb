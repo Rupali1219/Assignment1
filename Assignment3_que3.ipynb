{
  "nbformat": 4,
  "nbformat_minor": 0,
  "metadata": {
    "colab": {
      "name": "Assignment3_que3",
      "provenance": [],
      "collapsed_sections": []
    },
    "kernelspec": {
      "name": "python3",
      "display_name": "Python 3"
    },
    "language_info": {
      "name": "python"
    }
  },
  "cells": [
    {
      "cell_type": "code",
      "execution_count": 8,
      "metadata": {
        "colab": {
          "base_uri": "https://localhost:8080/"
        },
        "id": "EYyKktkl7Gky",
        "outputId": "6477aa24-7f0c-4f0e-e232-54e116cc88f6"
      },
      "outputs": [
        {
          "output_type": "stream",
          "name": "stdout",
          "text": [
            "Original String :  The quick Brow Fox\n",
            "No. of Upper case characters :  3\n",
            "No. of Lower case Characters :  12\n"
          ]
        }
      ],
      "source": [
        "#Write a Python function that accepts a string and calculate the number of upper case letters and lower case letters.\n",
        "def string_x(s):\n",
        "    d={\"UPPER_CASE\":0, \"LOWER_CASE\":0}\n",
        "    for i in s:\n",
        "        if i.isupper():\n",
        "           d[\"UPPER_CASE\"]+=1\n",
        "        elif i.islower():\n",
        "           d[\"LOWER_CASE\"]+=1\n",
        "        \n",
        "    print (\"Original String : \", s)\n",
        "    print (\"No. of Upper case characters : \", d[\"UPPER_CASE\"])\n",
        "    print (\"No. of Lower case Characters : \", d[\"LOWER_CASE\"])\n",
        "\n",
        "string_x('The quick Brow Fox')"
      ]
    }
  ]
}