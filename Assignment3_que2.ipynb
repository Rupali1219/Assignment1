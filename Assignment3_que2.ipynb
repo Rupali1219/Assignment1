{
  "nbformat": 4,
  "nbformat_minor": 0,
  "metadata": {
    "colab": {
      "name": "Assignment3_que2",
      "provenance": [],
      "collapsed_sections": []
    },
    "kernelspec": {
      "name": "python3",
      "display_name": "Python 3"
    },
    "language_info": {
      "name": "python"
    }
  },
  "cells": [
    {
      "cell_type": "code",
      "execution_count": 17,
      "metadata": {
        "colab": {
          "base_uri": "https://localhost:8080/"
        },
        "id": "t-taN6kV1lIt",
        "outputId": "b6e9a465-1b9d-45fc-81d4-755777f3aa5c"
      },
      "outputs": [
        {
          "output_type": "stream",
          "name": "stdout",
          "text": [
            "The original string is :  1234abcd\n",
            "The reversed string is :  dcba4321\n"
          ]
        }
      ],
      "source": [
        "#Write a Python program to reverse a string.\n",
        "\n",
        "def reverse(s):\n",
        "    str = \"\"\n",
        "    for i in s:\n",
        "       str= i+str\n",
        "    return str\n",
        " \n",
        "s = \"1234abcd\"\n",
        " \n",
        "print(\"The original string is : \", end=\" \")\n",
        "print(s)\n",
        " \n",
        "print(\"The reversed string is : \", end=\" \")\n",
        "print(reverse(s))"
      ]
    },
    {
      "cell_type": "code",
      "source": [],
      "metadata": {
        "id": "AKioln9x3L3e"
      },
      "execution_count": null,
      "outputs": []
    }
  ]
}