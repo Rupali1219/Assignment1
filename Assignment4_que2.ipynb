{
  "nbformat": 4,
  "nbformat_minor": 0,
  "metadata": {
    "colab": {
      "provenance": [],
      "collapsed_sections": []
    },
    "kernelspec": {
      "name": "python3",
      "display_name": "Python 3"
    },
    "language_info": {
      "name": "python"
    }
  },
  "cells": [
    {
      "cell_type": "code",
      "execution_count": 2,
      "metadata": {
        "colab": {
          "base_uri": "https://localhost:8080/"
        },
        "id": "jQ8p_buYIEqw",
        "outputId": "01fc9cae-23ac-4dfe-af78-c9e7dd74d865"
      },
      "outputs": [
        {
          "output_type": "stream",
          "name": "stdout",
          "text": [
            "Original list:  (1, 2, 3, 4, 5, 6, 7)\n",
            "\n",
            "Triple of list numbers:\n",
            "[3, 6, 9, 12, 15, 18, 21]\n"
          ]
        }
      ],
      "source": [
        "#Write a Python program to triple all numbers of a given list of integers. Use Python map.\n",
        "\n",
        "nums = (1, 2, 3, 4, 5, 6, 7) \n",
        "print(\"Original list: \", nums)\n",
        "result = map(lambda x: x + x + x, nums) \n",
        "print(\"\\nTriple of list numbers:\")\n",
        "print(list(result))"
      ]
    }
  ]
}