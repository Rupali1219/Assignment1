{
  "nbformat": 4,
  "nbformat_minor": 0,
  "metadata": {
    "colab": {
      "name": "Assignment3_que1",
      "provenance": [],
      "collapsed_sections": []
    },
    "kernelspec": {
      "name": "python3",
      "display_name": "Python 3"
    },
    "language_info": {
      "name": "python"
    }
  },
  "cells": [
    {
      "cell_type": "code",
      "execution_count": 10,
      "metadata": {
        "id": "GKTQI738wWY0",
        "colab": {
          "base_uri": "https://localhost:8080/"
        },
        "outputId": "e7c52f3d-747f-4d59-8538-60dce048ea32"
      },
      "outputs": [
        {
          "output_type": "stream",
          "name": "stdout",
          "text": [
            "20\n"
          ]
        }
      ],
      "source": [
        "#Write a Python function to sum all the numbers in a list.\n",
        "def sum(numbers):\n",
        "    total = 0\n",
        "    for i in numbers:\n",
        "        total += i\n",
        "    return total\n",
        "print(sum((8, 2, 3, 0, 7)))"
      ]
    }
  ]
}