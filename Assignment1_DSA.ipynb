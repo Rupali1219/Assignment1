{
  "nbformat": 4,
  "nbformat_minor": 0,
  "metadata": {
    "colab": {
      "provenance": [],
      "collapsed_sections": []
    },
    "kernelspec": {
      "name": "python3",
      "display_name": "Python 3"
    },
    "language_info": {
      "name": "python"
    }
  },
  "cells": [
    {
      "cell_type": "code",
      "execution_count": 2,
      "metadata": {
        "id": "9ZY-m3mEJvAv",
        "colab": {
          "base_uri": "https://localhost:8080/"
        },
        "outputId": "b485bf19-5f6c-4627-8b72-df8cb7a35495"
      },
      "outputs": [
        {
          "output_type": "stream",
          "name": "stdout",
          "text": [
            "Count of pairs is 3\n"
          ]
        }
      ],
      "source": [
        "#1. Write a program to find all pairs of an integer array whose sum is equal to a given number?\n",
        "def PairsCount(arr, n, sum):\n",
        " \n",
        "    count = 0  \n",
        " \n",
        "    for i in range(0, n):\n",
        "        for j in range(i + 1, n):\n",
        "            if arr[i] + arr[j] == sum:\n",
        "                count += 1\n",
        " \n",
        "    return count\n",
        " \n",
        "arr = [1, 5, 7, -1, 5]\n",
        "n = len(arr)\n",
        "sum = 6\n",
        "print(\"Count of pairs is\", PairsCount(arr, n, sum))"
      ]
    },
    {
      "cell_type": "code",
      "source": [
        "#2.Write a program to reverse an array in place? \n",
        "def reverseList(A, start, end):\n",
        "    while start < end:\n",
        "        A[start], A[end] = A[end], A[start]\n",
        "        start += 1\n",
        "        end -= 1\n",
        " \n",
        "A = [1, 2, 3, 4, 5, 6]\n",
        "print(A)\n",
        "reverseList(A, 0, 5)\n",
        "print(\"Reversed list is\")\n",
        "print(A)"
      ],
      "metadata": {
        "colab": {
          "base_uri": "https://localhost:8080/"
        },
        "id": "6LGQ4kreWHIP",
        "outputId": "354adc55-c25b-49a6-cf5a-fde367502e69"
      },
      "execution_count": 3,
      "outputs": [
        {
          "output_type": "stream",
          "name": "stdout",
          "text": [
            "[1, 2, 3, 4, 5, 6]\n",
            "Reversed list is\n",
            "[6, 5, 4, 3, 2, 1]\n"
          ]
        }
      ]
    },
    {
      "cell_type": "code",
      "source": [
        "#3.Write a program to check if two strings are a rotation of each other?\n",
        "def checkString(s1, s2, indexFound, Size):\n",
        "    for i in range(Size):\n",
        " \n",
        "      \n",
        "        if(s1[i] != s2[(indexFound + i) % Size]):\n",
        "            return False\n",
        "    return True\n",
        " \n",
        " \n",
        "s1 = \"abcd\"\n",
        "s2 = \"cdab\"\n",
        " \n",
        "if(len(s1) != len(s2)):\n",
        "    print(\"s2 is not a rotation on s1\")\n",
        " \n",
        "else:\n",
        " \n",
        "    indexes = []  \n",
        "    Size = len(s1)\n",
        "    firstChar = s1[0]\n",
        "    for i in range(Size):\n",
        "        if(s2[i] == firstChar):\n",
        "            indexes.append(i)\n",
        " \n",
        "    isRotation = False\n",
        " \n",
        "    for j in indexes:\n",
        " \n",
        "        isRotation = checkString(s1, s2, j, Size)\n",
        " \n",
        "        if(isRotation):\n",
        "            break\n",
        " \n",
        "    if(isRotation):\n",
        "        print(\"Strings are rotations of each other\")\n",
        "    else:\n",
        "        print(\"Strings are not rotations of each other\")\n",
        " "
      ],
      "metadata": {
        "colab": {
          "base_uri": "https://localhost:8080/"
        },
        "id": "kgFFhZkrW1ry",
        "outputId": "1bd28e60-5a09-4a65-8195-104f70f3b3ea"
      },
      "execution_count": 4,
      "outputs": [
        {
          "output_type": "stream",
          "name": "stdout",
          "text": [
            "Strings are rotations of each other\n"
          ]
        }
      ]
    },
    {
      "cell_type": "code",
      "source": [
        "#4. Write a program to print the first non-repeated character from a string?\n",
        "NO_OF_CHARS=256\n",
        "def getCharCountArray(string):\n",
        "    count = [0] * NO_OF_CHARS\n",
        "    for i in string:\n",
        "        count[ord(i)]+= 1\n",
        "    return count\n",
        " \n",
        "def firstNonRepeating(string):\n",
        "    count = getCharCountArray(string)\n",
        "    index = -1\n",
        "    k = 0\n",
        " \n",
        "    for i in string:\n",
        "        if count[ord(i)] == 1:\n",
        "            index = k\n",
        "            break\n",
        "        k += 1\n",
        " \n",
        "    return index\n",
        " \n",
        "\n",
        "string = \"queue\"\n",
        "index = firstNonRepeating(string)\n",
        "if index == 1:\n",
        "    print (\"Either all characters are repeating or string is empty\")\n",
        "else:\n",
        "    print (\"First non-repeating character is\" , string[index])\n",
        " "
      ],
      "metadata": {
        "colab": {
          "base_uri": "https://localhost:8080/"
        },
        "id": "Gts9mft9Y3cn",
        "outputId": "86c122de-ab6f-4de1-be87-53a53b20b7e7"
      },
      "execution_count": 6,
      "outputs": [
        {
          "output_type": "stream",
          "name": "stdout",
          "text": [
            "First non-repeating character is q\n"
          ]
        }
      ]
    },
    {
      "cell_type": "code",
      "source": [
        "#5.Read about the Tower of Hanoi algorithm. Write a program to implement it.\n",
        "def TowerOfHanoi(n, from_rod, to_rod, aux_rod):\n",
        "    if n == 0:\n",
        "        return\n",
        "    TowerOfHanoi(n-1, from_rod, aux_rod, to_rod)\n",
        "    print(\"Move disk\", n, \"from rod\", from_rod, \"to rod\", to_rod)\n",
        "    TowerOfHanoi(n-1, aux_rod, to_rod, from_rod)\n",
        " \n",
        "N = 3\n",
        " \n",
        "TowerOfHanoi(N, 'A', 'C', 'B')"
      ],
      "metadata": {
        "colab": {
          "base_uri": "https://localhost:8080/"
        },
        "id": "o46Bl1HOadas",
        "outputId": "9affe866-eb78-4be5-b4b4-e7d91fa68e9c"
      },
      "execution_count": 7,
      "outputs": [
        {
          "output_type": "stream",
          "name": "stdout",
          "text": [
            "Move disk 1 from rod A to rod C\n",
            "Move disk 2 from rod A to rod B\n",
            "Move disk 1 from rod C to rod B\n",
            "Move disk 3 from rod A to rod C\n",
            "Move disk 1 from rod B to rod A\n",
            "Move disk 2 from rod B to rod C\n",
            "Move disk 1 from rod A to rod C\n"
          ]
        }
      ]
    },
    {
      "cell_type": "code",
      "source": [
        "#6.Read about infix, prefix, and postfix expressions. Write a program to convert postfix to prefix expression.\n",
        "s = \"*-A/BC-/AKL\"\n",
        "stack = []\n",
        "operators = set(['+', '-', '*', '/', '^'])\n",
        " \n",
        "s = s[::-1]\n",
        " \n",
        "for i in s:\n",
        " \n",
        "    if i in operators:\n",
        " \n",
        "        a = stack.pop()\n",
        "        b = stack.pop()\n",
        " \n",
        "        temp = a+b+i\n",
        "        stack.append(temp)\n",
        " \n",
        "    else:\n",
        "        stack.append(i)\n",
        " \n",
        "print(*stack)"
      ],
      "metadata": {
        "colab": {
          "base_uri": "https://localhost:8080/"
        },
        "id": "7SSBlhlOa96s",
        "outputId": "debef645-1c68-4c8c-ffb4-1fe23b8c9ea7"
      },
      "execution_count": 8,
      "outputs": [
        {
          "output_type": "stream",
          "name": "stdout",
          "text": [
            "ABC/-AK/L-*\n"
          ]
        }
      ]
    },
    {
      "cell_type": "code",
      "source": [
        "#7.Write a program to convert prefix expression to infix expression.\n",
        "def prefixToInfix(prefix):\n",
        "    stack = []\n",
        "     \n",
        "    i = len(prefix) - 1\n",
        "    while i >= 0:\n",
        "        if not isOperator(prefix[i]):\n",
        "             \n",
        "            stack.append(prefix[i])\n",
        "            i -= 1\n",
        "        else:\n",
        "           \n",
        "            str = \"(\" + stack.pop() + prefix[i] + stack.pop() + \")\"\n",
        "            stack.append(str)\n",
        "            i -= 1\n",
        "     \n",
        "    return stack.pop()\n",
        " \n",
        "def isOperator(c):\n",
        "    if c == \"*\" or c == \"+\" or c == \"-\" or c == \"/\" or c == \"^\" or c == \"(\" or c == \")\":\n",
        "        return True\n",
        "    else:\n",
        "        return False\n",
        " \n",
        "if __name__==\"__main__\":\n",
        "    str = \"*-A/BC-/AKL\"\n",
        "    print(prefixToInfix(str))\n",
        "     "
      ],
      "metadata": {
        "colab": {
          "base_uri": "https://localhost:8080/"
        },
        "id": "oa0vSX-Yb2aZ",
        "outputId": "dfa98da6-0c5a-4f05-96e6-8d0f2708aa06"
      },
      "execution_count": 9,
      "outputs": [
        {
          "output_type": "stream",
          "name": "stdout",
          "text": [
            "((A-(B/C))*((A/K)-L))\n"
          ]
        }
      ]
    },
    {
      "cell_type": "code",
      "source": [
        "#8. Write a program to check if all the brackets are closed in a given code snippet.\n",
        "def areBracketsBalanced(expr):\n",
        "    stack = []\n",
        " \n",
        "  \n",
        "    for char in expr:\n",
        "        if char in [\"(\", \"{\", \"[\"]:\n",
        " \n",
        "            \n",
        "            stack.append(char)\n",
        "        else:\n",
        " \n",
        "           \n",
        "            if not stack:\n",
        "                return False\n",
        "            current_char = stack.pop()\n",
        "            if current_char == '(':\n",
        "                if char != \")\":\n",
        "                    return False\n",
        "            if current_char == '{':\n",
        "                if char != \"}\":\n",
        "                    return False\n",
        "            if current_char == '[':\n",
        "                if char != \"]\":\n",
        "                    return False\n",
        " \n",
        "    \n",
        "    if stack:\n",
        "        return False\n",
        "    return True\n",
        " \n",
        " \n",
        "\n",
        "if __name__ == \"__main__\":\n",
        "    expr = \"{()}[]\"\n",
        " \n",
        "    \n",
        "    if areBracketsBalanced(expr):\n",
        "        print(\"Balanced\")\n",
        "    else:\n",
        "        print(\"Not Balanced\")\n",
        " "
      ],
      "metadata": {
        "colab": {
          "base_uri": "https://localhost:8080/"
        },
        "id": "djUvXOGMcZBt",
        "outputId": "27161da8-92c7-4014-d94f-448896567d54"
      },
      "execution_count": 14,
      "outputs": [
        {
          "output_type": "stream",
          "name": "stdout",
          "text": [
            "Balanced\n"
          ]
        }
      ]
    },
    {
      "cell_type": "code",
      "source": [
        "#9.Write a program to reverse a stack.\n",
        "class Stack:\n",
        " \n",
        "    \n",
        "    def __init__(self):\n",
        "        self.Elements = []\n",
        "         \n",
        "    \n",
        "    def push(self, value):\n",
        "        self.Elements.append(value)\n",
        "       \n",
        "    \n",
        "    def pop(self):\n",
        "        return self.Elements.pop()\n",
        "     \n",
        "    \n",
        "    def empty(self):\n",
        "        return self.Elements == []\n",
        "     \n",
        "    \n",
        "    def show(self):\n",
        "        for value in reversed(self.Elements):\n",
        "            print(value)\n",
        " \n",
        "\n",
        "def BottomInsert(s, value):\n",
        "   \n",
        "    \n",
        "    if s.empty():\n",
        "         \n",
        "        \n",
        "        s.push(value)\n",
        "         \n",
        "    \n",
        "    else:\n",
        "        popped = s.pop()\n",
        "        BottomInsert(s, value)\n",
        "        s.push(popped)\n",
        " \n",
        "\n",
        "def Reverse(s):\n",
        "    if s.empty():\n",
        "        pass\n",
        "    else:\n",
        "        popped = s.pop()\n",
        "        Reverse(s)\n",
        "        BottomInsert(s, popped)\n",
        " \n",
        " \n",
        "\n",
        "stk = Stack()\n",
        " \n",
        "stk.push(1)\n",
        "stk.push(2)\n",
        "stk.push(3)\n",
        "stk.push(4)\n",
        "stk.push(5)\n",
        " \n",
        "print(\"Original Stack\")\n",
        "stk.show()\n",
        " \n",
        "print(\"Stack after Reversing\")\n",
        "Reverse(stk)\n",
        "stk.show()"
      ],
      "metadata": {
        "colab": {
          "base_uri": "https://localhost:8080/"
        },
        "id": "fUOVCnQkdaUl",
        "outputId": "60495d96-fd0b-4a79-b5f7-32bf5a08fe3c"
      },
      "execution_count": 15,
      "outputs": [
        {
          "output_type": "stream",
          "name": "stdout",
          "text": [
            "Original Stack\n",
            "5\n",
            "4\n",
            "3\n",
            "2\n",
            "1\n",
            "Stack after Reversing\n",
            "1\n",
            "2\n",
            "3\n",
            "4\n",
            "5\n"
          ]
        }
      ]
    },
    {
      "cell_type": "code",
      "source": [
        "#10.Write a program to find the smallest number using a stack.\n",
        "class Node:\n",
        "    \n",
        "    def __init__(self, value):\n",
        "        self.value = value\n",
        "        self.next = None\n",
        " \n",
        "  \n",
        "    def __str__(self):\n",
        "        return \"Node({})\".format(self.value)\n",
        " \n",
        "  \n",
        "    __repr__ = __str__\n",
        " \n",
        " \n",
        "class Stack:\n",
        "    \n",
        "    def __init__(self):\n",
        "        self.top = None\n",
        "        self.count = 0\n",
        "        self.minimum = None\n",
        " \n",
        "  \n",
        "    def __str__(self):\n",
        "        temp = self.top\n",
        "        out = []\n",
        "        while temp:\n",
        "            out.append(str(temp.value))\n",
        "            temp = temp.next\n",
        "        out = '\\n'.join(out)\n",
        "        return ('Top {} \\n\\nStack :\\n{}'.format(self.top, out))\n",
        " \n",
        "  \n",
        "    __repr__ = __str__\n",
        " \n",
        "    \n",
        "    def getMin(self):\n",
        "        if self.top is None:\n",
        "            return \"Stack is empty\"\n",
        "        else:\n",
        "            print(\"Minimum Element in the stack is: {}\" .format(self.minimum))\n",
        " \n",
        "  \n",
        " \n",
        "    def isEmpty(self):\n",
        "      \n",
        "        if self.top == None:\n",
        "            return True\n",
        "        else:\n",
        "            \n",
        "            return False\n",
        " \n",
        "    \n",
        "    def __len__(self):\n",
        "        self.count = 0\n",
        "        tempNode = self.top\n",
        "        while tempNode:\n",
        "            tempNode = tempNode.next\n",
        "            self.count += 1\n",
        "        return self.count\n",
        " \n",
        "  \n",
        "    def peek(self):\n",
        "        if self.top is None:\n",
        "            print(\"Stack is empty\")\n",
        "        else:\n",
        "            if self.top.value < self.minimum:\n",
        "                print(\"Top Most Element is: {}\" .format(self.minimum))\n",
        "            else:\n",
        "                print(\"Top Most Element is: {}\" .format(self.top.value))\n",
        " \n",
        "\n",
        "    def push(self, value):\n",
        "        if self.top is None:\n",
        "            self.top = Node(value)\n",
        "            self.minimum = value\n",
        " \n",
        "        elif value < self.minimum:\n",
        "            temp = (2 * value) - self.minimum\n",
        "            new_node = Node(temp)\n",
        "            new_node.next = self.top\n",
        "            self.top = new_node\n",
        "            self.minimum = value\n",
        "        else:\n",
        "            new_node = Node(value)\n",
        "            new_node.next = self.top\n",
        "            self.top = new_node\n",
        "        print(\"Number Inserted: {}\" .format(value))\n",
        " \n",
        "  \n",
        "    def pop(self):\n",
        "        if self.top is None:\n",
        "            print(\"Stack is empty\")\n",
        "        else:\n",
        "            removedNode = self.top.value\n",
        "            self.top = self.top.next\n",
        "            if removedNode < self.minimum:\n",
        "                print(\"Top Most Element Removed :{} \" .format(self.minimum))\n",
        "                self.minimum = ((2 * self.minimum) - removedNode)\n",
        "            else:\n",
        "                print(\"Top Most Element Removed : {}\" .format(removedNode))\n",
        " \n",
        " \n",
        "\n",
        "if __name__ == '__main__':\n",
        "   \n",
        "  stack = Stack()\n",
        "   \n",
        "  \n",
        "  stack.push(3)\n",
        "  stack.push(5)\n",
        "  stack.getMin()\n",
        "  stack.push(2)\n",
        "  stack.push(1)\n",
        "  stack.getMin()\n",
        "  stack.pop()\n",
        "  stack.getMin()\n",
        "  stack.pop()\n",
        "  stack.peek()"
      ],
      "metadata": {
        "colab": {
          "base_uri": "https://localhost:8080/"
        },
        "id": "kxuYMRjPeWY0",
        "outputId": "91f721a8-ea9d-49d9-fe77-28652a51cc07"
      },
      "execution_count": 16,
      "outputs": [
        {
          "output_type": "stream",
          "name": "stdout",
          "text": [
            "Number Inserted: 3\n",
            "Number Inserted: 5\n",
            "Minimum Element in the stack is: 3\n",
            "Number Inserted: 2\n",
            "Number Inserted: 1\n",
            "Minimum Element in the stack is: 1\n",
            "Top Most Element Removed :1 \n",
            "Minimum Element in the stack is: 2\n",
            "Top Most Element Removed :2 \n",
            "Top Most Element is: 5\n"
          ]
        }
      ]
    }
  ]
}