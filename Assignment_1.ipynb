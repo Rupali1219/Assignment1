{
  "nbformat": 4,
  "nbformat_minor": 0,
  "metadata": {
    "colab": {
      "name": "Assignment 1",
      "provenance": [],
      "collapsed_sections": []
    },
    "kernelspec": {
      "name": "python3",
      "display_name": "Python 3"
    },
    "language_info": {
      "name": "python"
    }
  },
  "cells": [
    {
      "cell_type": "code",
      "execution_count": 82,
      "metadata": {
        "colab": {
          "base_uri": "https://localhost:8080/"
        },
        "id": "tVfwlht9sKBU",
        "outputId": "e972bf01-a46a-47d7-8500-8c85f3dcf6fa"
      },
      "outputs": [
        {
          "output_type": "stream",
          "name": "stdout",
          "text": [
            "Enter the Number 10\n",
            "0 1 1 2 3 5 8 13 21 34 "
          ]
        }
      ],
      "source": [
        "# python program to get fibonacci series between 0 to 50\n",
        "n= int(input(\"Enter the Number\")) \n",
        "a=0\n",
        "b=1\n",
        "Sum=0\n",
        "for i in range(1,n+1):\n",
        "  print(Sum,end=\" \")\n",
        "  Sum= a+b\n",
        "  b=a\n",
        "  a=Sum\n"
      ]
    },
    {
      "cell_type": "code",
      "source": [
        "# python program that accept the word from user and reverse it.\n",
        "n=input(\"Enter The Word:\")\n",
        "l=len(n)\n",
        "for i in range(l-1,-1,-1):\n",
        "    print(n[i],end=\"\")"
      ],
      "metadata": {
        "colab": {
          "base_uri": "https://localhost:8080/"
        },
        "id": "wGDV0kNO1AOE",
        "outputId": "4e5ee861-28ac-4822-d402-cd5defabbb02"
      },
      "execution_count": 46,
      "outputs": [
        {
          "output_type": "stream",
          "name": "stdout",
          "text": [
            "Enter The Word: Edyoda\n",
            "adoydE "
          ]
        }
      ]
    },
    {
      "cell_type": "code",
      "source": [
        "# python program to count the number of odd and even numbers from a series of a numbers\n",
        "list=[1,2,3,4,5,6,7,8,9]\n",
        "even=0\n",
        "odd=0\n",
        "for i in list:\n",
        "   if(i%2==0):\n",
        "      even=even+1\n",
        "   else:\n",
        "      odd=odd+1\n",
        "print(\"Number of Even Numbers\",even)\n",
        "print(\"Number of odd Numbers\",odd)\n",
        "\n"
      ],
      "metadata": {
        "colab": {
          "base_uri": "https://localhost:8080/"
        },
        "id": "-f1XwumNKXKJ",
        "outputId": "4a229b10-3c0f-4ffa-d799-4f2a534df133"
      },
      "execution_count": 80,
      "outputs": [
        {
          "output_type": "stream",
          "name": "stdout",
          "text": [
            "Number of Even Numbers 4\n",
            "Number of odd Numbers 5\n"
          ]
        }
      ]
    },
    {
      "cell_type": "code",
      "source": [
        ""
      ],
      "metadata": {
        "id": "MeATJSkRbB3V"
      },
      "execution_count": null,
      "outputs": []
    }
  ]
}